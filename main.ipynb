{
 "cells": [
  {
   "cell_type": "markdown",
   "metadata": {},
   "source": [
    "## Understanding the Problem Statement"
   ]
  },
  {
   "cell_type": "markdown",
   "metadata": {},
   "source": [
    "#### In Formula 1 or F1 Racing, the driver's performance is often measured by various factors such as speed, lap times, and strategy. However, there are also some variables that can affect a driver's performance, such as weather conditions, track conditions, and driver fatigue. In this project, we will perform all four types of analytics such as descriptive analytics, diagnosnostic analysis, predictive analytics, and prescriptive analytics on the dataset provided by F1 Racing. "
   ]
  },
  {
   "cell_type": "code",
   "execution_count": 76,
   "metadata": {},
   "outputs": [],
   "source": [
    "import numpy as np\n",
    "import pandas as pd\n",
    "import matplotlib.pyplot as plt\n",
    "import seaborn as sns"
   ]
  },
  {
   "cell_type": "code",
   "execution_count": 77,
   "metadata": {},
   "outputs": [],
   "source": [
    "folder_path = \"dataset/\"\n",
    "\n",
    "circuits_df = pd.read_csv(folder_path + \"circuits.csv\")\n",
    "constructors_df = pd.read_csv(folder_path + \"constructors.csv\").rename(columns={\"url\": \"constructor_url\"})\n",
    "drivers_df = pd.read_csv(folder_path + \"drivers.csv\").rename(columns={\"url\": \"driver_url\"})\n",
    "races_df = pd.read_csv(folder_path + \"races.csv\").rename(columns={\"url\": \"race_url\"})\n",
    "seasons_df = pd.read_csv(folder_path + \"seasons.csv\")\n",
    "status_df = pd.read_csv(folder_path + \"status.csv\")\n",
    "qualifying_df = pd.read_csv(folder_path + \"qualifying.csv\")\n",
    "results_df = pd.read_csv(folder_path + \"results.csv\")\n",
    "constructor_results_df = pd.read_csv(folder_path + \"constructor_results.csv\")\n",
    "constructor_standings_df = pd.read_csv(folder_path + \"constructor_standings.csv\")\n",
    "driver_standings_df = pd.read_csv(folder_path + \"driver_standings.csv\")\n",
    "sprint_results_df = pd.read_csv(folder_path + \"sprint_results.csv\")\n",
    "lap_times_df = pd.read_csv(folder_path + \"lap_times.csv\")\n",
    "pit_stops_df = pd.read_csv(folder_path + \"pit_stops.csv\")"
   ]
  },
  {
   "cell_type": "code",
   "execution_count": 78,
   "metadata": {},
   "outputs": [],
   "source": [
    "file_names = [\"circuits.csv\", \"constructor_results.csv\", \"constructor_standings.csv\", \"constructors.csv\", \"drivers.csv\", \"driver_standings.csv\", \"lap_times.csv\", \"pit_stops.csv\", \"qualifying.csv\", \"races.csv\", \"results.csv\", \"seasons.csv\", \"sprint_results.csv\", \"status.csv\"]\n",
    "dfs_names = [circuits_df, constructor_results_df, constructor_standings_df, constructors_df, drivers_df, driver_standings_df, lap_times_df, pit_stops_df, qualifying_df, races_df, results_df, seasons_df, sprint_results_df, status_df]"
   ]
  },
  {
   "cell_type": "code",
   "execution_count": 79,
   "metadata": {},
   "outputs": [
    {
     "name": "stdout",
     "output_type": "stream",
     "text": [
      "[['circuits.csv', 'circuitId', 'circuitRef', 'name', 'location', 'country', 'lat', 'lng', 'alt', 'url'], ['constructor_results.csv', 'constructorResultsId', 'raceId', 'constructorId', 'points', 'status'], ['constructor_standings.csv', 'constructorStandingsId', 'raceId', 'constructorId', 'points', 'position', 'positionText', 'wins'], ['constructors.csv', 'constructorId', 'constructorRef', 'name', 'nationality', 'constructor_url'], ['drivers.csv', 'driverId', 'driverRef', 'number', 'code', 'forename', 'surname', 'dob', 'nationality', 'driver_url'], ['driver_standings.csv', 'driverStandingsId', 'raceId', 'driverId', 'points', 'position', 'positionText', 'wins'], ['lap_times.csv', 'raceId', 'driverId', 'lap', 'position', 'time', 'milliseconds'], ['pit_stops.csv', 'raceId', 'driverId', 'stop', 'lap', 'time', 'duration', 'milliseconds'], ['qualifying.csv', 'qualifyId', 'raceId', 'driverId', 'constructorId', 'number', 'position', 'q1', 'q2', 'q3'], ['races.csv', 'raceId', 'year', 'round', 'circuitId', 'name', 'date', 'time', 'race_url', 'fp1_date', 'fp1_time', 'fp2_date', 'fp2_time', 'fp3_date', 'fp3_time', 'quali_date', 'quali_time', 'sprint_date', 'sprint_time'], ['results.csv', 'resultId', 'raceId', 'driverId', 'constructorId', 'number', 'grid', 'position', 'positionText', 'positionOrder', 'points', 'laps', 'time', 'milliseconds', 'fastestLap', 'rank', 'fastestLapTime', 'fastestLapSpeed', 'statusId'], ['seasons.csv', 'year', 'url'], ['sprint_results.csv', 'resultId', 'raceId', 'driverId', 'constructorId', 'number', 'grid', 'position', 'positionText', 'positionOrder', 'points', 'laps', 'time', 'milliseconds', 'fastestLap', 'fastestLapTime', 'statusId'], ['status.csv', 'statusId', 'status']]\n"
     ]
    }
   ],
   "source": [
    "indexdf = []\n",
    "\n",
    "for i in range(len(dfs_names)):\n",
    "    indexdf.append([file_names[i]] + dfs_names[i].columns.values.tolist())\n",
    "\n",
    "print(indexdf)"
   ]
  },
  {
   "cell_type": "code",
   "execution_count": 80,
   "metadata": {},
   "outputs": [
    {
     "name": "stdout",
     "output_type": "stream",
     "text": [
      "+---------------------------+------------------------+----------------+---------------+---------------+-----------------+--------------+--------------+--------------+---------------+----------+----------+----------+--------------+------------+----------------+----------------+-----------------+-------------+\n",
      "| circuits.csv              | circuitId              | circuitRef     | name          | location      | country         | lat          | lng          | alt          | url           |          |          |          |              |            |                |                |                 |             |\n",
      "+---------------------------+------------------------+----------------+---------------+---------------+-----------------+--------------+--------------+--------------+---------------+----------+----------+----------+--------------+------------+----------------+----------------+-----------------+-------------+\n",
      "| constructor_results.csv   | constructorResultsId   | raceId         | constructorId | points        | status          |              |              |              |               |          |          |          |              |            |                |                |                 |             |\n",
      "+---------------------------+------------------------+----------------+---------------+---------------+-----------------+--------------+--------------+--------------+---------------+----------+----------+----------+--------------+------------+----------------+----------------+-----------------+-------------+\n",
      "| constructor_standings.csv | constructorStandingsId | raceId         | constructorId | points        | position        | positionText | wins         |              |               |          |          |          |              |            |                |                |                 |             |\n",
      "+---------------------------+------------------------+----------------+---------------+---------------+-----------------+--------------+--------------+--------------+---------------+----------+----------+----------+--------------+------------+----------------+----------------+-----------------+-------------+\n",
      "| constructors.csv          | constructorId          | constructorRef | name          | nationality   | constructor_url |              |              |              |               |          |          |          |              |            |                |                |                 |             |\n",
      "+---------------------------+------------------------+----------------+---------------+---------------+-----------------+--------------+--------------+--------------+---------------+----------+----------+----------+--------------+------------+----------------+----------------+-----------------+-------------+\n",
      "| drivers.csv               | driverId               | driverRef      | number        | code          | forename        | surname      | dob          | nationality  | driver_url    |          |          |          |              |            |                |                |                 |             |\n",
      "+---------------------------+------------------------+----------------+---------------+---------------+-----------------+--------------+--------------+--------------+---------------+----------+----------+----------+--------------+------------+----------------+----------------+-----------------+-------------+\n",
      "| driver_standings.csv      | driverStandingsId      | raceId         | driverId      | points        | position        | positionText | wins         |              |               |          |          |          |              |            |                |                |                 |             |\n",
      "+---------------------------+------------------------+----------------+---------------+---------------+-----------------+--------------+--------------+--------------+---------------+----------+----------+----------+--------------+------------+----------------+----------------+-----------------+-------------+\n",
      "| lap_times.csv             | raceId                 | driverId       | lap           | position      | time            | milliseconds |              |              |               |          |          |          |              |            |                |                |                 |             |\n",
      "+---------------------------+------------------------+----------------+---------------+---------------+-----------------+--------------+--------------+--------------+---------------+----------+----------+----------+--------------+------------+----------------+----------------+-----------------+-------------+\n",
      "| pit_stops.csv             | raceId                 | driverId       | stop          | lap           | time            | duration     | milliseconds |              |               |          |          |          |              |            |                |                |                 |             |\n",
      "+---------------------------+------------------------+----------------+---------------+---------------+-----------------+--------------+--------------+--------------+---------------+----------+----------+----------+--------------+------------+----------------+----------------+-----------------+-------------+\n",
      "| qualifying.csv            | qualifyId              | raceId         | driverId      | constructorId | number          | position     | q1           | q2           | q3            |          |          |          |              |            |                |                |                 |             |\n",
      "+---------------------------+------------------------+----------------+---------------+---------------+-----------------+--------------+--------------+--------------+---------------+----------+----------+----------+--------------+------------+----------------+----------------+-----------------+-------------+\n",
      "| races.csv                 | raceId                 | year           | round         | circuitId     | name            | date         | time         | race_url     | fp1_date      | fp1_time | fp2_date | fp2_time | fp3_date     | fp3_time   | quali_date     | quali_time     | sprint_date     | sprint_time |\n",
      "+---------------------------+------------------------+----------------+---------------+---------------+-----------------+--------------+--------------+--------------+---------------+----------+----------+----------+--------------+------------+----------------+----------------+-----------------+-------------+\n",
      "| results.csv               | resultId               | raceId         | driverId      | constructorId | number          | grid         | position     | positionText | positionOrder | points   | laps     | time     | milliseconds | fastestLap | rank           | fastestLapTime | fastestLapSpeed | statusId    |\n",
      "+---------------------------+------------------------+----------------+---------------+---------------+-----------------+--------------+--------------+--------------+---------------+----------+----------+----------+--------------+------------+----------------+----------------+-----------------+-------------+\n",
      "| seasons.csv               | year                   | url            |               |               |                 |              |              |              |               |          |          |          |              |            |                |                |                 |             |\n",
      "+---------------------------+------------------------+----------------+---------------+---------------+-----------------+--------------+--------------+--------------+---------------+----------+----------+----------+--------------+------------+----------------+----------------+-----------------+-------------+\n",
      "| sprint_results.csv        | resultId               | raceId         | driverId      | constructorId | number          | grid         | position     | positionText | positionOrder | points   | laps     | time     | milliseconds | fastestLap | fastestLapTime | statusId       |                 |             |\n",
      "+---------------------------+------------------------+----------------+---------------+---------------+-----------------+--------------+--------------+--------------+---------------+----------+----------+----------+--------------+------------+----------------+----------------+-----------------+-------------+\n",
      "| status.csv                | statusId               | status         |               |               |                 |              |              |              |               |          |          |          |              |            |                |                |                 |             |\n",
      "+---------------------------+------------------------+----------------+---------------+---------------+-----------------+--------------+--------------+--------------+---------------+----------+----------+----------+--------------+------------+----------------+----------------+-----------------+-------------+\n"
     ]
    }
   ],
   "source": [
    "from tabulate import tabulate\n",
    "\n",
    "print(tabulate(indexdf, tablefmt=\"grid\"))"
   ]
  },
  {
   "cell_type": "code",
   "execution_count": null,
   "metadata": {},
   "outputs": [],
   "source": []
  }
 ],
 "metadata": {
  "kernelspec": {
   "display_name": "base",
   "language": "python",
   "name": "python3"
  },
  "language_info": {
   "codemirror_mode": {
    "name": "ipython",
    "version": 3
   },
   "file_extension": ".py",
   "mimetype": "text/x-python",
   "name": "python",
   "nbconvert_exporter": "python",
   "pygments_lexer": "ipython3",
   "version": "3.12.9"
  }
 },
 "nbformat": 4,
 "nbformat_minor": 2
}
